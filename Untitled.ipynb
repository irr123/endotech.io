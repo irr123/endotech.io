{
 "cells": [
  {
   "cell_type": "code",
   "execution_count": null,
   "id": "617455d2-07ed-4fe3-9a71-0b5900963954",
   "metadata": {},
   "outputs": [],
   "source": [
    "!pip install git+https://github.com/irr123/endotech.io"
   ]
  },
  {
   "cell_type": "code",
   "execution_count": null,
   "id": "5e80e666-dcde-4aac-a4b6-3fa3c00350e6",
   "metadata": {},
   "outputs": [],
   "source": [
    "import typing as t\n",
    "import json\n",
    "from endotech import bootstrap, ai\n",
    "import openpyxl\n",
    "from openpyxl.worksheet.worksheet import Worksheet"
   ]
  },
  {
   "cell_type": "code",
   "execution_count": null,
   "id": "af61a72e-d009-463c-b468-eae132ea7628",
   "metadata": {},
   "outputs": [],
   "source": [
    "bootstrap._Hidden.default_conf[\"OPENAI_KEY\"] = \"TODO!\"\n",
    "TUPLE = tuple()\n",
    "SYSTEM_PROMPT = (\n",
    "    \"Return result as RAW json string, without any markup\"\n",
    "    ' where requested items are array located in top-level key \"result\".'\n",
    "    \" If there is no suitable option return empty JSON object.\"\n",
    ")"
   ]
  },
  {
   "cell_type": "code",
   "execution_count": null,
   "id": "76641116-0cbb-4f31-b68b-8f3bb699204e",
   "metadata": {},
   "outputs": [],
   "source": [
    "async def _main(\n",
    "    b: bootstrap.Bootstrap,\n",
    "    limit: int,\n",
    "    wb: openpyxl.workbook.Workbook,\n",
    "    openai: ai.Repo,\n",
    "    output_file: t.IO[str],\n",
    ") -> None:\n",
    "    original: Worksheet = wb[\"Original\"]\n",
    "    original_rows = {}\n",
    "    for row in original:\n",
    "        if len(row) == 0:\n",
    "            continue\n",
    "\n",
    "        row_0: openpyxl.cell.Cell = row[0]\n",
    "        if not row_0:\n",
    "            continue\n",
    "\n",
    "        report_name = row_0.value.strip()\n",
    "        reports = original_rows.get(report_name, [])\n",
    "        reports.append(row)\n",
    "        original_rows[report_name] = reports\n",
    "\n",
    "    if \"event\" in original_rows:\n",
    "        del original_rows[\"event\"]\n",
    "\n",
    "    keys: t.Iterable = original_rows.keys()\n",
    "    original_reports_formatted = \", \".join(keys)\n",
    "    # b.log.debug(\"Collected originals (%d): %s\", len(keys), original_reports_formatted)\n",
    "\n",
    "    watched: Worksheet = wb[\"Watched\"]\n",
    "    for row in watched:\n",
    "        for num, cell in enumerate(row):\n",
    "            if not cell.value or num != 0:\n",
    "                continue\n",
    "\n",
    "            value = cell.value.strip().removeprefix(\"- \")\n",
    "            if value in (\"Reports\", \"No Numbers\", \"Assets\"):\n",
    "                continue\n",
    "\n",
    "            prompt = (\n",
    "                f\"There is list of reports: {original_reports_formatted}.\"\n",
    "                f\" Which report from the list is meant by '{value}'?\"\n",
    "                f\" If there is more than one option, choose most watched and\"\n",
    "                f\" affecting markets.\"\n",
    "            )\n",
    "            resp, result = await openai.complete(prompt, SYSTEM_PROMPT)\n",
    "            # b.log.info(\"OpenAI: %s -> %s\", prompt, resp)\n",
    "\n",
    "            result = result.removeprefix(\"```json\").removesuffix(\"```\").strip()\n",
    "\n",
    "            found = json.loads(result).get(\"result\", TUPLE)\n",
    "            # b.log.info(\"%s: %s\", value, found)\n",
    "\n",
    "            if not found:\n",
    "                found = TUPLE\n",
    "\n",
    "            output_file.write(f'\"{value}\"\\t\"{\",\".join(found)}\"\\n')\n",
    "\n",
    "            limit -= 1\n",
    "            if limit == 0:\n",
    "                return\n"
   ]
  },
  {
   "cell_type": "code",
   "execution_count": null,
   "id": "48dbde64-c5b0-41a8-bf76-78dc5bec4f1f",
   "metadata": {},
   "outputs": [],
   "source": [
    "async def main() -> None:\n",
    "    b = bootstrap.Bootstrap()\n",
    "\n",
    "    wb: openpyxl.workbook.Workbook = openpyxl.load_workbook(\"OriginalToWatched.xlsx\", read_only=True)\n",
    "\n",
    "    with open(\"result.csv\", \"w\") as output:\n",
    "        try:\n",
    "            await _main(b, 1, wb, ai.Repo(b), output)\n",
    "        finally:\n",
    "            wb.close()\n",
    "            b.log.info(\"Completed\")\n",
    "\n",
    "await main()"
   ]
  },
  {
   "cell_type": "code",
   "execution_count": null,
   "id": "aa233412-75e5-44d4-902f-93d961f07af3",
   "metadata": {},
   "outputs": [],
   "source": []
  }
 ],
 "metadata": {
  "kernelspec": {
   "display_name": "Python 3 (ipykernel)",
   "language": "python",
   "name": "python3"
  },
  "language_info": {
   "codemirror_mode": {
    "name": "ipython",
    "version": 3
   },
   "file_extension": ".py",
   "mimetype": "text/x-python",
   "name": "python",
   "nbconvert_exporter": "python",
   "pygments_lexer": "ipython3",
   "version": "3.11.6"
  }
 },
 "nbformat": 4,
 "nbformat_minor": 5
}
